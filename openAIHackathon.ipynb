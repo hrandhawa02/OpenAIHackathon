{
 "cells": [
  {
   "cell_type": "code",
   "execution_count": 146,
   "metadata": {},
   "outputs": [],
   "source": [
    "from dotenv import load_dotenv\n",
    "import gradio as gr\n",
    "import requests\n",
    "import json\n",
    "import os"
   ]
  },
  {
   "cell_type": "code",
   "execution_count": 126,
   "metadata": {},
   "outputs": [
    {
     "data": {
      "text/plain": [
       "True"
      ]
     },
     "execution_count": 126,
     "metadata": {},
     "output_type": "execute_result"
    }
   ],
   "source": [
    "load_dotenv(override=True)"
   ]
  },
  {
   "cell_type": "code",
   "execution_count": 128,
   "metadata": {},
   "outputs": [],
   "source": [
    "from openai import OpenAI"
   ]
  },
  {
   "cell_type": "code",
   "execution_count": 129,
   "metadata": {},
   "outputs": [],
   "source": [
    "openai = OpenAI()"
   ]
  },
  {
   "cell_type": "code",
   "execution_count": 145,
   "metadata": {},
   "outputs": [],
   "source": [
    "global_name = \"\""
   ]
  },
  {
   "cell_type": "code",
   "execution_count": 131,
   "metadata": {},
   "outputs": [],
   "source": [
    "record_user_interests_details_json = {\n",
    "    \"name\": \"record_user_interests_details\",\n",
    "    \"description\": \"Use this tool to record the interests of the user and their notification schedule\",\n",
    "    \"parameters\": {\n",
    "        \"type\": \"object\",\n",
    "        \"properties\": {\n",
    "            \"category\": {\n",
    "                \"type\": \"object\",\n",
    "                \"description\": \"The category the user is interested in being notified about.\",\n",
    "                \"properties\": {\n",
    "                    \"interest\": {\n",
    "                        \"type\": \"string\",\n",
    "                        \"description\": \"The interests of the user\"\n",
    "                    },\n",
    "                    \"description\": {\n",
    "                        \"type\": \"string\",\n",
    "                        \"description\": \"additional details about users interests\"\n",
    "                    }\n",
    "                }\n",
    "            },\n",
    "            \"name\": {\n",
    "                \"type\": \"string\",\n",
    "                \"description\": \"The name of the user\"\n",
    "            },\n",
    "            \"email\": {\n",
    "                \"type\": \"string\",\n",
    "                \"description\": \"The email address of this user\"\n",
    "            },\n",
    "            \"phone\": {\n",
    "                \"type\": \"string\",\n",
    "                \"description\": \"The phone number of this user with country code\"\n",
    "            },\n",
    "        }\n",
    "    },\n",
    "    \"required\": [\"email\"],\n",
    "    \"additionalProperties\": False\n",
    "}"
   ]
  },
  {
   "cell_type": "code",
   "execution_count": 132,
   "metadata": {},
   "outputs": [],
   "source": [
    "tools = [{\"type\": \"function\", \"function\": record_user_interests_details_json}]"
   ]
  },
  {
   "cell_type": "code",
   "execution_count": 133,
   "metadata": {},
   "outputs": [
    {
     "data": {
      "text/plain": [
       "[{'type': 'function',\n",
       "  'function': {'name': 'record_user_interests_details',\n",
       "   'description': 'Use this tool to record the interests of the user and their notification schedule',\n",
       "   'parameters': {'type': 'object',\n",
       "    'properties': {'category': {'type': 'object',\n",
       "      'description': 'The category the user is interested in being notified about.',\n",
       "      'properties': {'interest': {'type': 'string',\n",
       "        'description': 'The interests of the user'},\n",
       "       'description': {'type': 'string',\n",
       "        'description': 'additional details about users interests'}}},\n",
       "     'name': {'type': 'string', 'description': 'The name of the user'},\n",
       "     'email': {'type': 'string',\n",
       "      'description': 'The email address of this user'},\n",
       "     'phone': {'type': 'string',\n",
       "      'description': 'The phone number of this user with country code'}}},\n",
       "   'required': ['email'],\n",
       "   'additionalProperties': False}}]"
      ]
     },
     "execution_count": 133,
     "metadata": {},
     "output_type": "execute_result"
    }
   ],
   "source": [
    "tools"
   ]
  },
  {
   "cell_type": "code",
   "execution_count": 134,
   "metadata": {},
   "outputs": [],
   "source": [
    "pushover_user = os.getenv(\"PUSHOVER_USER\")\n",
    "pushover_token = os.getenv(\"PUSHOVER_TOKEN\")\n",
    "pushover_url = \"https://api.pushover.net/1/messages.json\""
   ]
  },
  {
   "cell_type": "code",
   "execution_count": 135,
   "metadata": {},
   "outputs": [],
   "source": [
    "def push(message):\n",
    "    print(f\"Push: {message}\")\n",
    "    payload = {\"user\": pushover_user, \"token\": pushover_token, \"message\": message}\n",
    "    requests.post(pushover_url, data=payload)"
   ]
  },
  {
   "cell_type": "code",
   "execution_count": 143,
   "metadata": {},
   "outputs": [],
   "source": [
    "def record_user_interests_details(email, phone, name=\"Name not provided\", category=\"Not provided\"):\n",
    "    push_system_prompt = f\"You are a push notification system. You are responsible for sending notifications to users about \\\n",
    "        upcoming events that they are interested in. Users interests and descriptions are in {category}. Please send a push notification \\\n",
    "        to the user with the event details.\"\n",
    "    messages = [{\"role\":\"user\", \"content\": push_system_prompt}]\n",
    "\n",
    "    response = openai.chat.completions.create(\n",
    "        model=\"gpt-4.1-mini\",\n",
    "        messages=messages\n",
    "    )\n",
    "\n",
    "    push_notification = response.choices[0].message.content\n",
    "    push(push_notification)\n",
    "\n",
    "    return {\"pushed\": \"ok\"}"
   ]
  },
  {
   "cell_type": "code",
   "execution_count": 100,
   "metadata": {},
   "outputs": [
    {
     "name": "stdout",
     "output_type": "stream",
     "text": [
      "Push: Recording interest from Name not provided with email randhawa.harpreet2023@gmail.com and interests Not provided\n"
     ]
    },
    {
     "data": {
      "text/plain": [
       "{'recorded': 'ok'}"
      ]
     },
     "execution_count": 100,
     "metadata": {},
     "output_type": "execute_result"
    }
   ],
   "source": [
    "globals()[\"record_user_interests_details\"](\"randhawa.harpreet2023@gmail.com\")"
   ]
  },
  {
   "cell_type": "code",
   "execution_count": 137,
   "metadata": {},
   "outputs": [],
   "source": [
    "def handle_tool_calls(tool_calls):\n",
    "    results = []\n",
    "    for tool_call in tool_calls:\n",
    "        tool_name = tool_call.function.name\n",
    "        arguments = json.loads(tool_call.function.arguments)\n",
    "        print(f\"Tool called: {tool_name}\", flush=True)\n",
    "\n",
    "        if tool_name == \"record_user_interests_details\":\n",
    "            result = record_user_interests_details(**arguments)\n",
    "            global_name = json.dumps(result)\n",
    "        \n",
    "        results.append({\"role\": \"tool\",\"content\": json.dumps(result),\"tool_call_id\": tool_call.id})\n",
    "    return results"
   ]
  },
  {
   "cell_type": "code",
   "execution_count": 138,
   "metadata": {},
   "outputs": [],
   "source": [
    "system_prompt = f\"You are acting as event notification system. Ask users questions to tailor their interests and understand their preferences \\\n",
    "    subcategories. Ask them for their email and phone number including country code to send them notifications. End the conversation by \\\n",
    "    thanking them for their time. At the end of the conversation use your record_user_interests_details tool to record the the events the user wants to be \\\n",
    "    notified about and their contact information.\"\n",
    "\n",
    "system_prompt += f\"With this context, please chat with the user, always staying in character as an event notification system. Be the one to initiate the \\\n",
    "    converstation.\"\n"
   ]
  },
  {
   "cell_type": "code",
   "execution_count": 139,
   "metadata": {},
   "outputs": [],
   "source": [
    "def chat(message, history):\n",
    "    messages = [{\"role\": \"system\", \"content\": system_prompt}] + history + [{\"role\": \"user\", \"content\": message}]\n",
    "    done = False\n",
    "    while not done:\n",
    "        response = openai.chat.completions.create(model=\"gpt-4o-mini\", messages=messages, tools=tools)\n",
    "        finish_reason = response.choices[0].finish_reason\n",
    "\n",
    "        if finish_reason==\"tool_calls\":\n",
    "            message = response.choices[0].message\n",
    "            tool_calls = message.tool_calls\n",
    "            results = handle_tool_calls(tool_calls)\n",
    "            messages.append(message)\n",
    "            messages.extend(results)\n",
    "        else:\n",
    "            done = True\n",
    "            \n",
    "    return response.choices[0].message.content"
   ]
  },
  {
   "cell_type": "code",
   "execution_count": 147,
   "metadata": {},
   "outputs": [
    {
     "name": "stdout",
     "output_type": "stream",
     "text": [
      "* Running on local URL:  http://127.0.0.1:7878\n",
      "* To create a public link, set `share=True` in `launch()`.\n"
     ]
    },
    {
     "data": {
      "text/html": [
       "<div><iframe src=\"http://127.0.0.1:7878/\" width=\"100%\" height=\"500\" allow=\"autoplay; camera; microphone; clipboard-read; clipboard-write;\" frameborder=\"0\" allowfullscreen></iframe></div>"
      ],
      "text/plain": [
       "<IPython.core.display.HTML object>"
      ]
     },
     "metadata": {},
     "output_type": "display_data"
    },
    {
     "data": {
      "text/plain": []
     },
     "execution_count": 147,
     "metadata": {},
     "output_type": "execute_result"
    }
   ],
   "source": [
    "gr.ChatInterface(chat, type=\"messages\").launch()"
   ]
  },
  {
   "cell_type": "code",
   "execution_count": null,
   "metadata": {},
   "outputs": [
    {
     "name": "stdout",
     "output_type": "stream",
     "text": [
      "Push: HEY\n"
     ]
    }
   ],
   "source": [
    "push(global_name)"
   ]
  }
 ],
 "metadata": {
  "kernelspec": {
   "display_name": ".venv",
   "language": "python",
   "name": "python3"
  },
  "language_info": {
   "codemirror_mode": {
    "name": "ipython",
    "version": 3
   },
   "file_extension": ".py",
   "mimetype": "text/x-python",
   "name": "python",
   "nbconvert_exporter": "python",
   "pygments_lexer": "ipython3",
   "version": "3.13.1"
  }
 },
 "nbformat": 4,
 "nbformat_minor": 2
}
